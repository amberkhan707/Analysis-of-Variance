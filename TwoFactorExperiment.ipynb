{
 "cells": [
  {
   "cell_type": "markdown",
   "id": "4116e474",
   "metadata": {},
   "source": [
    "Two Factor Experiment : Isme ham Treatment aur block dono me decide krenge variability h ya ni koi column standout kr rha h ya koi row stand out kr rha h "
   ]
  },
  {
   "cell_type": "code",
   "execution_count": 13,
   "id": "c6bbda4b",
   "metadata": {},
   "outputs": [],
   "source": [
    "import numpy as np \n",
    "import pandas as pd \n",
    "from warnings import filterwarnings"
   ]
  },
  {
   "cell_type": "markdown",
   "id": "cd7d6576",
   "metadata": {},
   "source": [
    "Yha pe a = 3 liya h aur b = 10"
   ]
  },
  {
   "cell_type": "code",
   "execution_count": 14,
   "id": "b1711992",
   "metadata": {},
   "outputs": [
    {
     "data": {
      "text/html": [
       "<div>\n",
       "<style scoped>\n",
       "    .dataframe tbody tr th:only-of-type {\n",
       "        vertical-align: middle;\n",
       "    }\n",
       "\n",
       "    .dataframe tbody tr th {\n",
       "        vertical-align: top;\n",
       "    }\n",
       "\n",
       "    .dataframe thead th {\n",
       "        text-align: right;\n",
       "    }\n",
       "</style>\n",
       "<table border=\"1\" class=\"dataframe\">\n",
       "  <thead>\n",
       "    <tr style=\"text-align: right;\">\n",
       "      <th></th>\n",
       "      <th>Land1</th>\n",
       "      <th>Land2</th>\n",
       "      <th>Land3</th>\n",
       "      <th>Land4</th>\n",
       "      <th>Land5</th>\n",
       "      <th>Land6</th>\n",
       "      <th>Land7</th>\n",
       "      <th>Land8</th>\n",
       "      <th>Land9</th>\n",
       "      <th>Land10</th>\n",
       "    </tr>\n",
       "  </thead>\n",
       "  <tbody>\n",
       "    <tr>\n",
       "      <th>Wheat1</th>\n",
       "      <td>2.498160</td>\n",
       "      <td>4.802857</td>\n",
       "      <td>3.927976</td>\n",
       "      <td>3.394634</td>\n",
       "      <td>1.624075</td>\n",
       "      <td>1.623978</td>\n",
       "      <td>1.232334</td>\n",
       "      <td>4.464705</td>\n",
       "      <td>3.404460</td>\n",
       "      <td>3.832290</td>\n",
       "    </tr>\n",
       "    <tr>\n",
       "      <th>Wheat2</th>\n",
       "      <td>1.205845</td>\n",
       "      <td>10.699099</td>\n",
       "      <td>9.324426</td>\n",
       "      <td>3.123391</td>\n",
       "      <td>2.818250</td>\n",
       "      <td>2.834045</td>\n",
       "      <td>4.042422</td>\n",
       "      <td>6.247564</td>\n",
       "      <td>5.319450</td>\n",
       "      <td>3.912291</td>\n",
       "    </tr>\n",
       "    <tr>\n",
       "      <th>Wheat3</th>\n",
       "      <td>2.835559</td>\n",
       "      <td>1.418482</td>\n",
       "      <td>1.876434</td>\n",
       "      <td>2.099086</td>\n",
       "      <td>2.368210</td>\n",
       "      <td>3.355528</td>\n",
       "      <td>1.599021</td>\n",
       "      <td>2.542703</td>\n",
       "      <td>2.777244</td>\n",
       "      <td>1.139351</td>\n",
       "    </tr>\n",
       "  </tbody>\n",
       "</table>\n",
       "</div>"
      ],
      "text/plain": [
       "           Land1      Land2     Land3     Land4     Land5     Land6     Land7  \\\n",
       "Wheat1  2.498160   4.802857  3.927976  3.394634  1.624075  1.623978  1.232334   \n",
       "Wheat2  1.205845  10.699099  9.324426  3.123391  2.818250  2.834045  4.042422   \n",
       "Wheat3  2.835559   1.418482  1.876434  2.099086  2.368210  3.355528  1.599021   \n",
       "\n",
       "           Land8     Land9    Land10  \n",
       "Wheat1  4.464705  3.404460  3.832290  \n",
       "Wheat2  6.247564  5.319450  3.912291  \n",
       "Wheat3  2.542703  2.777244  1.139351  "
      ]
     },
     "execution_count": 14,
     "metadata": {},
     "output_type": "execute_result"
    }
   ],
   "source": [
    "np.random.seed(42)\n",
    "df = pd.DataFrame([np.random.uniform(1,5,10),np.random.uniform(1,11,10),np.random.uniform(1,4,10)])\n",
    "df.columns = ['Land1','Land2','Land3','Land4','Land5','Land6','Land7','Land8','Land9','Land10']\n",
    "df.index = ['Wheat1','Wheat2','Wheat3']\n",
    "df"
   ]
  },
  {
   "cell_type": "code",
   "execution_count": 15,
   "id": "4ef9277b",
   "metadata": {},
   "outputs": [],
   "source": [
    "rowmean = df.mean(axis=1)\n",
    "columnmean = df.mean(axis=0)\n",
    "mean = np.sum(rowmean) / 3"
   ]
  },
  {
   "cell_type": "markdown",
   "id": "cbc7a390",
   "metadata": {},
   "source": [
    "Variability between the wheat/rows"
   ]
  },
  {
   "cell_type": "code",
   "execution_count": 16,
   "id": "9bf4090d",
   "metadata": {},
   "outputs": [
    {
     "data": {
      "text/plain": [
       "np.float64(39.49679563445717)"
      ]
     },
     "execution_count": 16,
     "metadata": {},
     "output_type": "execute_result"
    }
   ],
   "source": [
    "vr = 10*np.sum((rowmean - mean)**2)\n",
    "vr"
   ]
  },
  {
   "cell_type": "markdown",
   "id": "e5a86efa",
   "metadata": {},
   "source": [
    "Variability between the Land/columns"
   ]
  },
  {
   "cell_type": "code",
   "execution_count": 17,
   "id": "5904b2d0",
   "metadata": {},
   "outputs": [
    {
     "data": {
      "text/plain": [
       "np.float64(42.11848873319916)"
      ]
     },
     "execution_count": 17,
     "metadata": {},
     "output_type": "execute_result"
    }
   ],
   "source": [
    "vc = 3*np.sum((columnmean - mean)**2)\n",
    "vc"
   ]
  },
  {
   "cell_type": "markdown",
   "id": "4bf10464",
   "metadata": {},
   "source": [
    "random error"
   ]
  },
  {
   "cell_type": "code",
   "execution_count": 18,
   "id": "a7eb492a",
   "metadata": {},
   "outputs": [
    {
     "name": "stderr",
     "output_type": "stream",
     "text": [
      "C:\\Users\\mdamb\\AppData\\Local\\Temp\\ipykernel_17144\\3091582405.py:5: FutureWarning: Series.__getitem__ treating keys as positions is deprecated. In a future version, integer keys will always be treated as labels (consistent with DataFrame behavior). To access a value by position, use `ser.iloc[pos]`\n",
      "  ve = ve + (arr[i][j] - columnmean[j] - rowmean[i] + mean)**2\n"
     ]
    },
    {
     "data": {
      "text/plain": [
       "np.float64(58.96365883359184)"
      ]
     },
     "execution_count": 18,
     "metadata": {},
     "output_type": "execute_result"
    }
   ],
   "source": [
    "arr = np.array(df)\n",
    "ve = 0\n",
    "for i in range(3) :\n",
    "    for j in range(10):\n",
    "        ve = ve + (arr[i][j] - columnmean[j] - rowmean[i] + mean)**2\n",
    "\n",
    "ve"
   ]
  },
  {
   "cell_type": "markdown",
   "id": "43a301b8",
   "metadata": {},
   "source": [
    "Its time to calculate variance "
   ]
  },
  {
   "cell_type": "code",
   "execution_count": 19,
   "id": "19ee5ef5",
   "metadata": {},
   "outputs": [],
   "source": [
    "sr = vr / 2\n",
    "sc = vc / 9\n",
    "se = ve / 18"
   ]
  },
  {
   "cell_type": "markdown",
   "id": "82056533",
   "metadata": {},
   "source": [
    "Two Null hypothesis is there : \n",
    "1. Ho1 - Means of wheats are same \n",
    "2. H02 - Means of lands are same "
   ]
  },
  {
   "cell_type": "code",
   "execution_count": 20,
   "id": "d479d058",
   "metadata": {},
   "outputs": [
    {
     "name": "stdout",
     "output_type": "stream",
     "text": [
      "6.028648285095923     1.428625345386609\n"
     ]
    }
   ],
   "source": [
    "F1 = sr/se\n",
    "F2 = sc/se\n",
    "print(F1,\"   \",F2)"
   ]
  },
  {
   "cell_type": "code",
   "execution_count": 21,
   "id": "7216f65d",
   "metadata": {},
   "outputs": [
    {
     "name": "stdout",
     "output_type": "stream",
     "text": [
      "0.009906113458816979     0.24780609139448018\n"
     ]
    }
   ],
   "source": [
    "from scipy import stats\n",
    "p1 = 1 - stats.f.cdf(F1,2,18)\n",
    "p2 = 1 - stats.f.cdf(F2,9,18)\n",
    "print(p1,\"   \",p2)"
   ]
  },
  {
   "cell_type": "markdown",
   "id": "9e6eddbb",
   "metadata": {},
   "source": [
    "1. p = 0.009906 < 0.05 ;; Ho1 -> rejected so, means of land are not same \n",
    "2. p = 0.247 > 0.05 ;; Ho2 fails to reject so, Land means are same "
   ]
  },
  {
   "cell_type": "markdown",
   "id": "d6c928e6",
   "metadata": {},
   "source": [
    "# Through Pyhton Library"
   ]
  },
  {
   "cell_type": "code",
   "execution_count": 43,
   "id": "c84c64f4",
   "metadata": {},
   "outputs": [
    {
     "name": "stdout",
     "output_type": "stream",
     "text": [
      "             sum_sq    df         F    PR(>F)\n",
      "C(Wheat)  39.496796   2.0  6.028648  0.009906\n",
      "C(Land)   42.118489   9.0  1.428625  0.247806\n",
      "Residual  58.963659  18.0       NaN       NaN\n"
     ]
    }
   ],
   "source": [
    "import statsmodels.api as sm\n",
    "from statsmodels.formula.api import ols\n",
    "\n",
    "data = df.reset_index().melt(id_vars='index', var_name='Land', value_name='Yield')\n",
    "data.rename(columns={'index': 'Wheat'}, inplace=True)\n",
    "\n",
    "model = ols('Yield ~ C(Wheat) + C(Land)', data=data).fit()\n",
    "anova_table = sm.stats.anova_lm(model, typ=2)\n",
    "print(anova_table)\n"
   ]
  },
  {
   "cell_type": "code",
   "execution_count": null,
   "id": "7a7b5dab",
   "metadata": {},
   "outputs": [],
   "source": [
    "\n"
   ]
  },
  {
   "cell_type": "code",
   "execution_count": null,
   "id": "7a6064c3",
   "metadata": {},
   "outputs": [],
   "source": []
  },
  {
   "cell_type": "code",
   "execution_count": null,
   "id": "edeb178f",
   "metadata": {},
   "outputs": [],
   "source": []
  }
 ],
 "metadata": {
  "kernelspec": {
   "display_name": "Python 3",
   "language": "python",
   "name": "python3"
  },
  "language_info": {
   "codemirror_mode": {
    "name": "ipython",
    "version": 3
   },
   "file_extension": ".py",
   "mimetype": "text/x-python",
   "name": "python",
   "nbconvert_exporter": "python",
   "pygments_lexer": "ipython3",
   "version": "3.13.0"
  }
 },
 "nbformat": 4,
 "nbformat_minor": 5
}
