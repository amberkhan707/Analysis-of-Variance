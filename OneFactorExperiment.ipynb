{
 "cells": [
  {
   "cell_type": "markdown",
   "id": "69367bea",
   "metadata": {
    "vscode": {
     "languageId": "plaintext"
    }
   },
   "source": [
    "One Factor Experiment : Isme basically ham Treatment check krte h ye sachme koi standout ho rha h ya bs random variability h"
   ]
  },
  {
   "cell_type": "markdown",
   "id": "c21c1dcd",
   "metadata": {},
   "source": [
    "Scenario :\n",
    "we have 20 days session wise return : Asin London and NY"
   ]
  },
  {
   "cell_type": "code",
   "execution_count": 2,
   "id": "167ac7d1",
   "metadata": {},
   "outputs": [],
   "source": [
    "import numpy as np "
   ]
  },
  {
   "cell_type": "code",
   "execution_count": 3,
   "id": "bb906095",
   "metadata": {},
   "outputs": [],
   "source": [
    "np.random.seed(42)\n",
    "Asian = np.random.uniform(0,3,10)\n",
    "London = np.random.uniform(1,5,10)\n",
    "NY = np.random.uniform(1,3,10)"
   ]
  },
  {
   "cell_type": "code",
   "execution_count": 4,
   "id": "93b6b076",
   "metadata": {},
   "outputs": [],
   "source": [
    "xa = np.mean(Asian)\n",
    "xl = np.mean(London)\n",
    "xn = np.mean(NY)\n",
    "a=np.concat((Asian,London,NY))\n",
    "x = np.mean(a)"
   ]
  },
  {
   "cell_type": "markdown",
   "id": "358ed294",
   "metadata": {},
   "source": [
    "Variable between the Sessions"
   ]
  },
  {
   "cell_type": "code",
   "execution_count": 5,
   "id": "966ba2ba",
   "metadata": {},
   "outputs": [],
   "source": [
    "Vb = 10*(xa-x)**2 + 10*(xl-x)**2 + 10*(xn-x)**2"
   ]
  },
  {
   "cell_type": "markdown",
   "id": "82000347",
   "metadata": {},
   "source": [
    "Variable within the session "
   ]
  },
  {
   "cell_type": "code",
   "execution_count": 6,
   "id": "727579e8",
   "metadata": {},
   "outputs": [],
   "source": [
    "Va = np.sum((Asian - xa)**2)\n",
    "Vl = np.sum((London - xl)**2)\n",
    "Vn = np.sum((NY - xn)**2)\n",
    "Vw = np.sum((Va,Vl,Vn))"
   ]
  },
  {
   "cell_type": "markdown",
   "id": "0954cc4f",
   "metadata": {},
   "source": [
    "Variable with total "
   ]
  },
  {
   "cell_type": "code",
   "execution_count": 7,
   "id": "4e0e4e41",
   "metadata": {},
   "outputs": [],
   "source": [
    "V = np.sum((a - x)**2)"
   ]
  },
  {
   "cell_type": "markdown",
   "id": "66afb17d",
   "metadata": {},
   "source": [
    "H0 : There is no difference in the return of session so Alpha is 0 \n",
    "because alpha is difference of sessions "
   ]
  },
  {
   "cell_type": "code",
   "execution_count": 8,
   "id": "0fb5acb1",
   "metadata": {},
   "outputs": [],
   "source": [
    "sb = Vb/2\n",
    "sw = Vw/27\n",
    "df1,df2 = 2,27"
   ]
  },
  {
   "cell_type": "code",
   "execution_count": 9,
   "id": "ebdc3d77",
   "metadata": {},
   "outputs": [
    {
     "data": {
      "text/plain": [
       "np.float64(0.05174292787770729)"
      ]
     },
     "execution_count": 9,
     "metadata": {},
     "output_type": "execute_result"
    }
   ],
   "source": [
    "from scipy import stats\n",
    "F = sb/sw\n",
    "p = 1 - stats.f.cdf(F,df1,df2)\n",
    "p"
   ]
  },
  {
   "cell_type": "markdown",
   "id": "b65d179d",
   "metadata": {},
   "source": [
    "As we took critical = 0.05 "
   ]
  },
  {
   "cell_type": "markdown",
   "id": "ccdb2015",
   "metadata": {},
   "source": [
    "0.0517 > 0.05 , p calc > p critical so, Fails to reject Null hypothesis. Hence, All session mean are equal"
   ]
  },
  {
   "cell_type": "markdown",
   "id": "cbc91acf",
   "metadata": {},
   "source": [
    "# Through Python Library"
   ]
  },
  {
   "cell_type": "code",
   "execution_count": 12,
   "id": "37ba760a",
   "metadata": {},
   "outputs": [
    {
     "name": "stdout",
     "output_type": "stream",
     "text": [
      "0.051742927877707436 3.3114070918303393\n"
     ]
    }
   ],
   "source": [
    "from scipy.stats import f_oneway\n",
    "fstat,pvalue = f_oneway(Asian,London,NY)\n",
    "print(pvalue,fstat)"
   ]
  },
  {
   "cell_type": "markdown",
   "id": "d4bf4810",
   "metadata": {},
   "source": [
    "Manually and through python Library also we got the same so our function is totally correct "
   ]
  },
  {
   "cell_type": "markdown",
   "id": "44767c8d",
   "metadata": {},
   "source": [
    "-------------------------------------------------##############################################----------------------------"
   ]
  }
 ],
 "metadata": {
  "kernelspec": {
   "display_name": "Python 3",
   "language": "python",
   "name": "python3"
  },
  "language_info": {
   "codemirror_mode": {
    "name": "ipython",
    "version": 3
   },
   "file_extension": ".py",
   "mimetype": "text/x-python",
   "name": "python",
   "nbconvert_exporter": "python",
   "pygments_lexer": "ipython3",
   "version": "3.13.0"
  }
 },
 "nbformat": 4,
 "nbformat_minor": 5
}
